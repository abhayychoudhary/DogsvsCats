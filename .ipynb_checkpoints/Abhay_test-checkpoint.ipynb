{
 "cells": [
  {
   "cell_type": "code",
   "execution_count": 2,
   "metadata": {},
   "outputs": [],
   "source": [
    "import cv2 \n",
    "import os \n",
    "import numpy as np \n",
    "from random import shuffle \n",
    "from tqdm import tqdm"
   ]
  },
  {
   "cell_type": "code",
   "execution_count": 3,
   "metadata": {},
   "outputs": [],
   "source": [
    "TRAIN_DIR = 'train'\n",
    "TEST_DIR = 'test1'\n",
    "IMG_SIZE = 50\n",
    "LR = 1e-3"
   ]
  },
  {
   "cell_type": "code",
   "execution_count": 4,
   "metadata": {},
   "outputs": [],
   "source": [
    "MODEL_NAME = 'dogsvscats-{}-{}.model'.format(LR, '6conv-basic')"
   ]
  },
  {
   "cell_type": "code",
   "execution_count": 5,
   "metadata": {},
   "outputs": [],
   "source": [
    "def label_img(img): \n",
    "    word_label = img.split('.')[-3] \n",
    "    # DIY One hot encoder \n",
    "    if word_label == 'cat': return [1, 0] \n",
    "    elif word_label == 'dog': return [0, 1] "
   ]
  },
  {
   "cell_type": "code",
   "execution_count": 6,
   "metadata": {},
   "outputs": [],
   "source": [
    "def create_train_data(): \n",
    "    # Creating an empty list where we should the store the training data \n",
    "    # after a little preprocessing of the data \n",
    "    training_data = [] \n",
    "  \n",
    "    # tqdm is only used for interactive loading \n",
    "    # loading the training data \n",
    "    for img in tqdm(os.listdir(TRAIN_DIR)): \n",
    "  \n",
    "        # labeling the images \n",
    "        label = label_img(img) \n",
    "  \n",
    "        path = os.path.join(TRAIN_DIR, img) \n",
    "  \n",
    "        # loading the image from the path and then converting them into \n",
    "        # greyscale for easier covnet prob \n",
    "        img = cv2.imread(path, cv2.IMREAD_GRAYSCALE) \n",
    "  \n",
    "        # resizing the image for processing them in the covnet \n",
    "        img = cv2.resize(img, (IMG_SIZE, IMG_SIZE)) \n",
    "  \n",
    "        # final step-forming the training data list with numpy array of the images \n",
    "        training_data.append([np.array(img), np.array(label)]) \n",
    "  \n",
    "    # shuffling of the training data to preserve the random state of our data \n",
    "    shuffle(training_data) \n",
    "  \n",
    "    # saving our trained data for further uses if required \n",
    "    np.save('train_data.npy', training_data) \n",
    "    return training_data "
   ]
  },
  {
   "cell_type": "code",
   "execution_count": 7,
   "metadata": {},
   "outputs": [],
   "source": [
    "def process_test_data(): \n",
    "    testing_data = [] \n",
    "    for img in tqdm(os.listdir(TEST_DIR)): \n",
    "        path = os.path.join(TEST_DIR, img) \n",
    "        img_num = img.split('.')[0] \n",
    "        img = cv2.imread(path, cv2.IMREAD_GRAYSCALE) \n",
    "        img = cv2.resize(img, (IMG_SIZE, IMG_SIZE)) \n",
    "        testing_data.append([np.array(img), img_num]) \n",
    "          \n",
    "    shuffle(testing_data) \n",
    "    np.save('test_data.npy', testing_data) \n",
    "    return testing_data "
   ]
  },
  {
   "cell_type": "code",
   "execution_count": 9,
   "metadata": {},
   "outputs": [
    {
     "ename": "FileNotFoundError",
     "evalue": "[Errno 2] No such file or directory: 'E:/dataset / Cats_vs_Dogs / train'",
     "output_type": "error",
     "traceback": [
      "\u001b[0;31m---------------------------------------------------------------------------\u001b[0m",
      "\u001b[0;31mFileNotFoundError\u001b[0m                         Traceback (most recent call last)",
      "\u001b[0;32m<ipython-input-9-d7ae7640fa64>\u001b[0m in \u001b[0;36m<module>\u001b[0;34m\u001b[0m\n\u001b[0;32m----> 1\u001b[0;31m \u001b[0mtrain_data\u001b[0m \u001b[0;34m=\u001b[0m \u001b[0mcreate_train_data\u001b[0m\u001b[0;34m(\u001b[0m\u001b[0;34m)\u001b[0m\u001b[0;34m\u001b[0m\u001b[0;34m\u001b[0m\u001b[0m\n\u001b[0m\u001b[1;32m      2\u001b[0m \u001b[0mtest_data\u001b[0m \u001b[0;34m=\u001b[0m \u001b[0mprocess_test_data\u001b[0m\u001b[0;34m(\u001b[0m\u001b[0;34m)\u001b[0m\u001b[0;34m\u001b[0m\u001b[0;34m\u001b[0m\u001b[0m\n",
      "\u001b[0;32m<ipython-input-6-284273065408>\u001b[0m in \u001b[0;36mcreate_train_data\u001b[0;34m()\u001b[0m\n\u001b[1;32m      6\u001b[0m     \u001b[0;31m# tqdm is only used for interactive loading\u001b[0m\u001b[0;34m\u001b[0m\u001b[0;34m\u001b[0m\u001b[0;34m\u001b[0m\u001b[0m\n\u001b[1;32m      7\u001b[0m     \u001b[0;31m# loading the training data\u001b[0m\u001b[0;34m\u001b[0m\u001b[0;34m\u001b[0m\u001b[0;34m\u001b[0m\u001b[0m\n\u001b[0;32m----> 8\u001b[0;31m     \u001b[0;32mfor\u001b[0m \u001b[0mimg\u001b[0m \u001b[0;32min\u001b[0m \u001b[0mtqdm\u001b[0m\u001b[0;34m(\u001b[0m\u001b[0mos\u001b[0m\u001b[0;34m.\u001b[0m\u001b[0mlistdir\u001b[0m\u001b[0;34m(\u001b[0m\u001b[0mTRAIN_DIR\u001b[0m\u001b[0;34m)\u001b[0m\u001b[0;34m)\u001b[0m\u001b[0;34m:\u001b[0m\u001b[0;34m\u001b[0m\u001b[0;34m\u001b[0m\u001b[0m\n\u001b[0m\u001b[1;32m      9\u001b[0m \u001b[0;34m\u001b[0m\u001b[0m\n\u001b[1;32m     10\u001b[0m         \u001b[0;31m# labeling the images\u001b[0m\u001b[0;34m\u001b[0m\u001b[0;34m\u001b[0m\u001b[0;34m\u001b[0m\u001b[0m\n",
      "\u001b[0;31mFileNotFoundError\u001b[0m: [Errno 2] No such file or directory: 'E:/dataset / Cats_vs_Dogs / train'"
     ]
    }
   ],
   "source": [
    "train_data = create_train_data() \n",
    "test_data = process_test_data()"
   ]
  },
  {
   "cell_type": "code",
   "execution_count": null,
   "metadata": {},
   "outputs": [],
   "source": []
  }
 ],
 "metadata": {
  "kernelspec": {
   "display_name": "Python 3",
   "language": "python",
   "name": "python3"
  },
  "language_info": {
   "codemirror_mode": {
    "name": "ipython",
    "version": 3
   },
   "file_extension": ".py",
   "mimetype": "text/x-python",
   "name": "python",
   "nbconvert_exporter": "python",
   "pygments_lexer": "ipython3",
   "version": "3.6.8"
  }
 },
 "nbformat": 4,
 "nbformat_minor": 2
}
